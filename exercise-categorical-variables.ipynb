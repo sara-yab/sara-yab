{
 "cells": [
  {
   "cell_type": "markdown",
   "id": "c61553b8",
   "metadata": {
    "papermill": {
     "duration": 0.03245,
     "end_time": "2022-01-28T09:26:34.418423",
     "exception": false,
     "start_time": "2022-01-28T09:26:34.385973",
     "status": "completed"
    },
    "tags": []
   },
   "source": [
    "**This notebook is an exercise in the [Intermediate Machine Learning](https://www.kaggle.com/learn/intermediate-machine-learning) course.  You can reference the tutorial at [this link](https://www.kaggle.com/alexisbcook/categorical-variables).**\n",
    "\n",
    "---\n"
   ]
  },
  {
   "cell_type": "markdown",
   "id": "2f4ff206",
   "metadata": {
    "papermill": {
     "duration": 0.030371,
     "end_time": "2022-01-28T09:26:34.482976",
     "exception": false,
     "start_time": "2022-01-28T09:26:34.452605",
     "status": "completed"
    },
    "tags": []
   },
   "source": [
    "By encoding **categorical variables**, you'll obtain your best results thus far!\n",
    "\n",
    "# Setup\n",
    "\n",
    "The questions below will give you feedback on your work. Run the following cell to set up the feedback system."
   ]
  },
  {
   "cell_type": "code",
   "execution_count": 1,
   "id": "0e3871c1",
   "metadata": {
    "execution": {
     "iopub.execute_input": "2022-01-28T09:26:34.557521Z",
     "iopub.status.busy": "2022-01-28T09:26:34.556482Z",
     "iopub.status.idle": "2022-01-28T09:26:34.609148Z",
     "shell.execute_reply": "2022-01-28T09:26:34.609836Z",
     "shell.execute_reply.started": "2022-01-23T11:14:33.333289Z"
    },
    "papermill": {
     "duration": 0.09612,
     "end_time": "2022-01-28T09:26:34.610456",
     "exception": false,
     "start_time": "2022-01-28T09:26:34.514336",
     "status": "completed"
    },
    "tags": []
   },
   "outputs": [
    {
     "name": "stdout",
     "output_type": "stream",
     "text": [
      "Setup Complete\n"
     ]
    }
   ],
   "source": [
    "# Set up code checking\n",
    "import os\n",
    "if not os.path.exists(\"../input/train.csv\"):\n",
    "    os.symlink(\"../input/home-data-for-ml-course/train.csv\", \"../input/train.csv\")  \n",
    "    os.symlink(\"../input/home-data-for-ml-course/test.csv\", \"../input/test.csv\") \n",
    "from learntools.core import binder\n",
    "binder.bind(globals())\n",
    "from learntools.ml_intermediate.ex3 import *\n",
    "print(\"Setup Complete\")"
   ]
  },
  {
   "cell_type": "markdown",
   "id": "c961e1b0",
   "metadata": {
    "papermill": {
     "duration": 0.032828,
     "end_time": "2022-01-28T09:26:34.676244",
     "exception": false,
     "start_time": "2022-01-28T09:26:34.643416",
     "status": "completed"
    },
    "tags": []
   },
   "source": [
    "In this exercise, you will work with data from the [Housing Prices Competition for Kaggle Learn Users](https://www.kaggle.com/c/home-data-for-ml-course). \n",
    "\n",
    "![Ames Housing dataset image](https://i.imgur.com/lTJVG4e.png)\n",
    "\n",
    "Run the next code cell without changes to load the training and validation sets in `X_train`, `X_valid`, `y_train`, and `y_valid`.  The test set is loaded in `X_test`."
   ]
  },
  {
   "cell_type": "code",
   "execution_count": 2,
   "id": "5fc7bd60",
   "metadata": {
    "execution": {
     "iopub.execute_input": "2022-01-28T09:26:34.750169Z",
     "iopub.status.busy": "2022-01-28T09:26:34.749263Z",
     "iopub.status.idle": "2022-01-28T09:26:36.229392Z",
     "shell.execute_reply": "2022-01-28T09:26:36.228701Z",
     "shell.execute_reply.started": "2022-01-23T11:14:33.392571Z"
    },
    "papermill": {
     "duration": 1.52078,
     "end_time": "2022-01-28T09:26:36.229577",
     "exception": false,
     "start_time": "2022-01-28T09:26:34.708797",
     "status": "completed"
    },
    "tags": []
   },
   "outputs": [],
   "source": [
    "import pandas as pd\n",
    "from sklearn.model_selection import train_test_split\n",
    "\n",
    "# Read the data\n",
    "X = pd.read_csv('../input/train.csv', index_col='Id') \n",
    "X_test = pd.read_csv('../input/test.csv', index_col='Id')\n",
    "\n",
    "# Remove rows with missing target, separate target from predictors\n",
    "X.dropna(axis=0, subset=['SalePrice'], inplace=True)\n",
    "y = X.SalePrice\n",
    "X.drop(['SalePrice'], axis=1, inplace=True)\n",
    "\n",
    "# To keep things simple, we'll drop columns with missing values\n",
    "cols_with_missing = [col for col in X.columns if X[col].isnull().any()] \n",
    "X.drop(cols_with_missing, axis=1, inplace=True)\n",
    "X_test.drop(cols_with_missing, axis=1, inplace=True)\n",
    "\n",
    "# Break off validation set from training data\n",
    "X_train, X_valid, y_train, y_valid = train_test_split(X, y,\n",
    "                                                      train_size=0.8, test_size=0.2,\n",
    "                                                      random_state=0)"
   ]
  },
  {
   "cell_type": "markdown",
   "id": "4b1bf2d0",
   "metadata": {
    "papermill": {
     "duration": 0.033997,
     "end_time": "2022-01-28T09:26:36.304931",
     "exception": false,
     "start_time": "2022-01-28T09:26:36.270934",
     "status": "completed"
    },
    "tags": []
   },
   "source": [
    "Use the next code cell to print the first five rows of the data."
   ]
  },
  {
   "cell_type": "code",
   "execution_count": 3,
   "id": "77aa8187",
   "metadata": {
    "execution": {
     "iopub.execute_input": "2022-01-28T09:26:36.380149Z",
     "iopub.status.busy": "2022-01-28T09:26:36.379437Z",
     "iopub.status.idle": "2022-01-28T09:26:36.408577Z",
     "shell.execute_reply": "2022-01-28T09:26:36.409064Z",
     "shell.execute_reply.started": "2022-01-23T11:14:34.532286Z"
    },
    "papermill": {
     "duration": 0.069709,
     "end_time": "2022-01-28T09:26:36.409287",
     "exception": false,
     "start_time": "2022-01-28T09:26:36.339578",
     "status": "completed"
    },
    "tags": []
   },
   "outputs": [
    {
     "data": {
      "text/html": [
       "<div>\n",
       "<style scoped>\n",
       "    .dataframe tbody tr th:only-of-type {\n",
       "        vertical-align: middle;\n",
       "    }\n",
       "\n",
       "    .dataframe tbody tr th {\n",
       "        vertical-align: top;\n",
       "    }\n",
       "\n",
       "    .dataframe thead th {\n",
       "        text-align: right;\n",
       "    }\n",
       "</style>\n",
       "<table border=\"1\" class=\"dataframe\">\n",
       "  <thead>\n",
       "    <tr style=\"text-align: right;\">\n",
       "      <th></th>\n",
       "      <th>MSSubClass</th>\n",
       "      <th>MSZoning</th>\n",
       "      <th>LotArea</th>\n",
       "      <th>Street</th>\n",
       "      <th>LotShape</th>\n",
       "      <th>LandContour</th>\n",
       "      <th>Utilities</th>\n",
       "      <th>LotConfig</th>\n",
       "      <th>LandSlope</th>\n",
       "      <th>Neighborhood</th>\n",
       "      <th>...</th>\n",
       "      <th>OpenPorchSF</th>\n",
       "      <th>EnclosedPorch</th>\n",
       "      <th>3SsnPorch</th>\n",
       "      <th>ScreenPorch</th>\n",
       "      <th>PoolArea</th>\n",
       "      <th>MiscVal</th>\n",
       "      <th>MoSold</th>\n",
       "      <th>YrSold</th>\n",
       "      <th>SaleType</th>\n",
       "      <th>SaleCondition</th>\n",
       "    </tr>\n",
       "    <tr>\n",
       "      <th>Id</th>\n",
       "      <th></th>\n",
       "      <th></th>\n",
       "      <th></th>\n",
       "      <th></th>\n",
       "      <th></th>\n",
       "      <th></th>\n",
       "      <th></th>\n",
       "      <th></th>\n",
       "      <th></th>\n",
       "      <th></th>\n",
       "      <th></th>\n",
       "      <th></th>\n",
       "      <th></th>\n",
       "      <th></th>\n",
       "      <th></th>\n",
       "      <th></th>\n",
       "      <th></th>\n",
       "      <th></th>\n",
       "      <th></th>\n",
       "      <th></th>\n",
       "      <th></th>\n",
       "    </tr>\n",
       "  </thead>\n",
       "  <tbody>\n",
       "    <tr>\n",
       "      <th>619</th>\n",
       "      <td>20</td>\n",
       "      <td>RL</td>\n",
       "      <td>11694</td>\n",
       "      <td>Pave</td>\n",
       "      <td>Reg</td>\n",
       "      <td>Lvl</td>\n",
       "      <td>AllPub</td>\n",
       "      <td>Inside</td>\n",
       "      <td>Gtl</td>\n",
       "      <td>NridgHt</td>\n",
       "      <td>...</td>\n",
       "      <td>108</td>\n",
       "      <td>0</td>\n",
       "      <td>0</td>\n",
       "      <td>260</td>\n",
       "      <td>0</td>\n",
       "      <td>0</td>\n",
       "      <td>7</td>\n",
       "      <td>2007</td>\n",
       "      <td>New</td>\n",
       "      <td>Partial</td>\n",
       "    </tr>\n",
       "    <tr>\n",
       "      <th>871</th>\n",
       "      <td>20</td>\n",
       "      <td>RL</td>\n",
       "      <td>6600</td>\n",
       "      <td>Pave</td>\n",
       "      <td>Reg</td>\n",
       "      <td>Lvl</td>\n",
       "      <td>AllPub</td>\n",
       "      <td>Inside</td>\n",
       "      <td>Gtl</td>\n",
       "      <td>NAmes</td>\n",
       "      <td>...</td>\n",
       "      <td>0</td>\n",
       "      <td>0</td>\n",
       "      <td>0</td>\n",
       "      <td>0</td>\n",
       "      <td>0</td>\n",
       "      <td>0</td>\n",
       "      <td>8</td>\n",
       "      <td>2009</td>\n",
       "      <td>WD</td>\n",
       "      <td>Normal</td>\n",
       "    </tr>\n",
       "    <tr>\n",
       "      <th>93</th>\n",
       "      <td>30</td>\n",
       "      <td>RL</td>\n",
       "      <td>13360</td>\n",
       "      <td>Pave</td>\n",
       "      <td>IR1</td>\n",
       "      <td>HLS</td>\n",
       "      <td>AllPub</td>\n",
       "      <td>Inside</td>\n",
       "      <td>Gtl</td>\n",
       "      <td>Crawfor</td>\n",
       "      <td>...</td>\n",
       "      <td>0</td>\n",
       "      <td>44</td>\n",
       "      <td>0</td>\n",
       "      <td>0</td>\n",
       "      <td>0</td>\n",
       "      <td>0</td>\n",
       "      <td>8</td>\n",
       "      <td>2009</td>\n",
       "      <td>WD</td>\n",
       "      <td>Normal</td>\n",
       "    </tr>\n",
       "    <tr>\n",
       "      <th>818</th>\n",
       "      <td>20</td>\n",
       "      <td>RL</td>\n",
       "      <td>13265</td>\n",
       "      <td>Pave</td>\n",
       "      <td>IR1</td>\n",
       "      <td>Lvl</td>\n",
       "      <td>AllPub</td>\n",
       "      <td>CulDSac</td>\n",
       "      <td>Gtl</td>\n",
       "      <td>Mitchel</td>\n",
       "      <td>...</td>\n",
       "      <td>59</td>\n",
       "      <td>0</td>\n",
       "      <td>0</td>\n",
       "      <td>0</td>\n",
       "      <td>0</td>\n",
       "      <td>0</td>\n",
       "      <td>7</td>\n",
       "      <td>2008</td>\n",
       "      <td>WD</td>\n",
       "      <td>Normal</td>\n",
       "    </tr>\n",
       "    <tr>\n",
       "      <th>303</th>\n",
       "      <td>20</td>\n",
       "      <td>RL</td>\n",
       "      <td>13704</td>\n",
       "      <td>Pave</td>\n",
       "      <td>IR1</td>\n",
       "      <td>Lvl</td>\n",
       "      <td>AllPub</td>\n",
       "      <td>Corner</td>\n",
       "      <td>Gtl</td>\n",
       "      <td>CollgCr</td>\n",
       "      <td>...</td>\n",
       "      <td>81</td>\n",
       "      <td>0</td>\n",
       "      <td>0</td>\n",
       "      <td>0</td>\n",
       "      <td>0</td>\n",
       "      <td>0</td>\n",
       "      <td>1</td>\n",
       "      <td>2006</td>\n",
       "      <td>WD</td>\n",
       "      <td>Normal</td>\n",
       "    </tr>\n",
       "  </tbody>\n",
       "</table>\n",
       "<p>5 rows × 60 columns</p>\n",
       "</div>"
      ],
      "text/plain": [
       "     MSSubClass MSZoning  LotArea Street LotShape LandContour Utilities  \\\n",
       "Id                                                                        \n",
       "619          20       RL    11694   Pave      Reg         Lvl    AllPub   \n",
       "871          20       RL     6600   Pave      Reg         Lvl    AllPub   \n",
       "93           30       RL    13360   Pave      IR1         HLS    AllPub   \n",
       "818          20       RL    13265   Pave      IR1         Lvl    AllPub   \n",
       "303          20       RL    13704   Pave      IR1         Lvl    AllPub   \n",
       "\n",
       "    LotConfig LandSlope Neighborhood  ... OpenPorchSF EnclosedPorch 3SsnPorch  \\\n",
       "Id                                    ...                                       \n",
       "619    Inside       Gtl      NridgHt  ...         108             0         0   \n",
       "871    Inside       Gtl        NAmes  ...           0             0         0   \n",
       "93     Inside       Gtl      Crawfor  ...           0            44         0   \n",
       "818   CulDSac       Gtl      Mitchel  ...          59             0         0   \n",
       "303    Corner       Gtl      CollgCr  ...          81             0         0   \n",
       "\n",
       "    ScreenPorch  PoolArea  MiscVal  MoSold  YrSold SaleType SaleCondition  \n",
       "Id                                                                         \n",
       "619         260         0        0       7    2007      New       Partial  \n",
       "871           0         0        0       8    2009       WD        Normal  \n",
       "93            0         0        0       8    2009       WD        Normal  \n",
       "818           0         0        0       7    2008       WD        Normal  \n",
       "303           0         0        0       1    2006       WD        Normal  \n",
       "\n",
       "[5 rows x 60 columns]"
      ]
     },
     "execution_count": 3,
     "metadata": {},
     "output_type": "execute_result"
    }
   ],
   "source": [
    "X_train.head()"
   ]
  },
  {
   "cell_type": "markdown",
   "id": "cd4267e9",
   "metadata": {
    "papermill": {
     "duration": 0.031574,
     "end_time": "2022-01-28T09:26:36.472212",
     "exception": false,
     "start_time": "2022-01-28T09:26:36.440638",
     "status": "completed"
    },
    "tags": []
   },
   "source": [
    "Notice that the dataset contains both numerical and categorical variables.  You'll need to encode the categorical data before training a model.\n",
    "\n",
    "To compare different models, you'll use the same `score_dataset()` function from the tutorial.  This function reports the [mean absolute error](https://en.wikipedia.org/wiki/Mean_absolute_error) (MAE) from a random forest model."
   ]
  },
  {
   "cell_type": "code",
   "execution_count": 4,
   "id": "5116ff8c",
   "metadata": {
    "execution": {
     "iopub.execute_input": "2022-01-28T09:26:36.542119Z",
     "iopub.status.busy": "2022-01-28T09:26:36.541261Z",
     "iopub.status.idle": "2022-01-28T09:26:36.761238Z",
     "shell.execute_reply": "2022-01-28T09:26:36.760551Z",
     "shell.execute_reply.started": "2022-01-23T11:14:34.56671Z"
    },
    "papermill": {
     "duration": 0.258113,
     "end_time": "2022-01-28T09:26:36.761393",
     "exception": false,
     "start_time": "2022-01-28T09:26:36.503280",
     "status": "completed"
    },
    "tags": []
   },
   "outputs": [],
   "source": [
    "from sklearn.ensemble import RandomForestRegressor\n",
    "from sklearn.metrics import mean_absolute_error\n",
    "\n",
    "# function for comparing different approaches\n",
    "def score_dataset(X_train, X_valid, y_train, y_valid):\n",
    "    model = RandomForestRegressor(n_estimators=100, random_state=0)\n",
    "    model.fit(X_train, y_train)\n",
    "    preds = model.predict(X_valid)\n",
    "    return mean_absolute_error(y_valid, preds)"
   ]
  },
  {
   "cell_type": "markdown",
   "id": "30160c5e",
   "metadata": {
    "papermill": {
     "duration": 0.030931,
     "end_time": "2022-01-28T09:26:36.823911",
     "exception": false,
     "start_time": "2022-01-28T09:26:36.792980",
     "status": "completed"
    },
    "tags": []
   },
   "source": [
    "# Step 1: Drop columns with categorical data\n",
    "\n",
    "You'll get started with the most straightforward approach.  Use the code cell below to preprocess the data in `X_train` and `X_valid` to remove columns with categorical data.  Set the preprocessed DataFrames to `drop_X_train` and `drop_X_valid`, respectively.  "
   ]
  },
  {
   "cell_type": "code",
   "execution_count": 5,
   "id": "31a4dae0",
   "metadata": {
    "execution": {
     "iopub.execute_input": "2022-01-28T09:26:36.898471Z",
     "iopub.status.busy": "2022-01-28T09:26:36.892459Z",
     "iopub.status.idle": "2022-01-28T09:26:36.903419Z",
     "shell.execute_reply": "2022-01-28T09:26:36.903892Z",
     "shell.execute_reply.started": "2022-01-23T11:14:34.74626Z"
    },
    "papermill": {
     "duration": 0.048844,
     "end_time": "2022-01-28T09:26:36.904098",
     "exception": false,
     "start_time": "2022-01-28T09:26:36.855254",
     "status": "completed"
    },
    "tags": []
   },
   "outputs": [
    {
     "data": {
      "application/javascript": [
       "parent.postMessage({\"jupyterEvent\": \"custom.exercise_interaction\", \"data\": {\"outcomeType\": 1, \"valueTowardsCompletion\": 0.5, \"interactionType\": 1, \"questionType\": 2, \"questionId\": \"1_Drop\", \"learnToolsVersion\": \"0.3.4\", \"failureMessage\": \"\", \"exceptionClass\": \"\", \"trace\": \"\"}}, \"*\")"
      ],
      "text/plain": [
       "<IPython.core.display.Javascript object>"
      ]
     },
     "metadata": {},
     "output_type": "display_data"
    },
    {
     "data": {
      "text/markdown": [
       "<span style=\"color:#33cc33\">Correct</span>"
      ],
      "text/plain": [
       "Correct"
      ]
     },
     "metadata": {},
     "output_type": "display_data"
    }
   ],
   "source": [
    "# Fill in the lines below: drop columns in training and validation data\n",
    "\n",
    "# why it doesn't work with this method?\n",
    "#categorical_data = [col for col in X_train.columns if X_train[col].dtype=='object']\n",
    "#drop_X_train = X_train.drop(categorical_data, axis=1, inplace=True)\n",
    "#drop_X_valid = X_valid.drop(categorical_data, axis=1, inplace=True)\n",
    "\n",
    "drop_X_train = X_train.select_dtypes(exclude='object')\n",
    "drop_X_valid = X_valid.select_dtypes(exclude='object')\n",
    "# Check your answers\n",
    "step_1.check()"
   ]
  },
  {
   "cell_type": "code",
   "execution_count": 6,
   "id": "5d19ce4a",
   "metadata": {
    "execution": {
     "iopub.execute_input": "2022-01-28T09:26:36.974248Z",
     "iopub.status.busy": "2022-01-28T09:26:36.973468Z",
     "iopub.status.idle": "2022-01-28T09:26:36.977769Z",
     "shell.execute_reply": "2022-01-28T09:26:36.977223Z",
     "shell.execute_reply.started": "2022-01-23T11:14:34.761717Z"
    },
    "papermill": {
     "duration": 0.040563,
     "end_time": "2022-01-28T09:26:36.977911",
     "exception": false,
     "start_time": "2022-01-28T09:26:36.937348",
     "status": "completed"
    },
    "tags": []
   },
   "outputs": [],
   "source": [
    "# Lines below will give you a hint or solution code\n",
    "#step_1.hint()\n",
    "#step_1.solution()"
   ]
  },
  {
   "cell_type": "markdown",
   "id": "97aaa201",
   "metadata": {
    "papermill": {
     "duration": 0.033422,
     "end_time": "2022-01-28T09:26:37.044995",
     "exception": false,
     "start_time": "2022-01-28T09:26:37.011573",
     "status": "completed"
    },
    "tags": []
   },
   "source": [
    "Run the next code cell to get the MAE for this approach."
   ]
  },
  {
   "cell_type": "code",
   "execution_count": 7,
   "id": "a6109d31",
   "metadata": {
    "execution": {
     "iopub.execute_input": "2022-01-28T09:26:37.122543Z",
     "iopub.status.busy": "2022-01-28T09:26:37.119683Z",
     "iopub.status.idle": "2022-01-28T09:26:38.365626Z",
     "shell.execute_reply": "2022-01-28T09:26:38.364879Z",
     "shell.execute_reply.started": "2022-01-23T11:14:34.773898Z"
    },
    "papermill": {
     "duration": 1.287017,
     "end_time": "2022-01-28T09:26:38.365779",
     "exception": false,
     "start_time": "2022-01-28T09:26:37.078762",
     "status": "completed"
    },
    "tags": []
   },
   "outputs": [
    {
     "name": "stdout",
     "output_type": "stream",
     "text": [
      "MAE from Approach 1 (Drop categorical variables):\n",
      "17837.82570776256\n"
     ]
    }
   ],
   "source": [
    "print(\"MAE from Approach 1 (Drop categorical variables):\")\n",
    "print(score_dataset(drop_X_train, drop_X_valid, y_train, y_valid))"
   ]
  },
  {
   "cell_type": "markdown",
   "id": "31476e42",
   "metadata": {
    "papermill": {
     "duration": 0.032584,
     "end_time": "2022-01-28T09:26:38.431963",
     "exception": false,
     "start_time": "2022-01-28T09:26:38.399379",
     "status": "completed"
    },
    "tags": []
   },
   "source": [
    "Before jumping into ordinal encoding, we'll investigate the dataset.  Specifically, we'll look at the `'Condition2'` column.  The code cell below prints the unique entries in both the training and validation sets."
   ]
  },
  {
   "cell_type": "code",
   "execution_count": 8,
   "id": "ead6d7d6",
   "metadata": {
    "execution": {
     "iopub.execute_input": "2022-01-28T09:26:38.505195Z",
     "iopub.status.busy": "2022-01-28T09:26:38.504501Z",
     "iopub.status.idle": "2022-01-28T09:26:38.507466Z",
     "shell.execute_reply": "2022-01-28T09:26:38.508046Z",
     "shell.execute_reply.started": "2022-01-23T11:14:36.003816Z"
    },
    "papermill": {
     "duration": 0.043321,
     "end_time": "2022-01-28T09:26:38.508268",
     "exception": false,
     "start_time": "2022-01-28T09:26:38.464947",
     "status": "completed"
    },
    "tags": []
   },
   "outputs": [
    {
     "name": "stdout",
     "output_type": "stream",
     "text": [
      "Unique values in 'Condition2' column in training data: ['Norm' 'PosA' 'Feedr' 'PosN' 'Artery' 'RRAe']\n",
      "\n",
      "Unique values in 'Condition2' column in validation data: ['Norm' 'RRAn' 'RRNn' 'Artery' 'Feedr' 'PosN']\n"
     ]
    }
   ],
   "source": [
    "print(\"Unique values in 'Condition2' column in training data:\", X_train['Condition2'].unique())\n",
    "print(\"\\nUnique values in 'Condition2' column in validation data:\", X_valid['Condition2'].unique())"
   ]
  },
  {
   "cell_type": "markdown",
   "id": "1573291b",
   "metadata": {
    "papermill": {
     "duration": 0.032969,
     "end_time": "2022-01-28T09:26:38.574691",
     "exception": false,
     "start_time": "2022-01-28T09:26:38.541722",
     "status": "completed"
    },
    "tags": []
   },
   "source": [
    "# Step 2: Ordinal encoding\n",
    "\n",
    "### Part A\n",
    "\n",
    "If you now write code to: \n",
    "- fit an ordinal encoder to the training data, and then \n",
    "- use it to transform both the training and validation data, \n",
    "\n",
    "you'll get an error.  Can you see why this is the case?  (_You'll need  to use the above output to answer this question._)"
   ]
  },
  {
   "cell_type": "code",
   "execution_count": 9,
   "id": "fbe07e18",
   "metadata": {
    "execution": {
     "iopub.execute_input": "2022-01-28T09:26:38.650579Z",
     "iopub.status.busy": "2022-01-28T09:26:38.649810Z",
     "iopub.status.idle": "2022-01-28T09:26:38.655977Z",
     "shell.execute_reply": "2022-01-28T09:26:38.655431Z",
     "shell.execute_reply.started": "2022-01-23T11:14:36.01233Z"
    },
    "papermill": {
     "duration": 0.047888,
     "end_time": "2022-01-28T09:26:38.656153",
     "exception": false,
     "start_time": "2022-01-28T09:26:38.608265",
     "status": "completed"
    },
    "tags": []
   },
   "outputs": [
    {
     "data": {
      "application/javascript": [
       "parent.postMessage({\"jupyterEvent\": \"custom.exercise_interaction\", \"data\": {\"outcomeType\": 1, \"valueTowardsCompletion\": 0.5, \"interactionType\": 1, \"questionType\": 4, \"questionId\": \"2.1_LabelA\", \"learnToolsVersion\": \"0.3.4\", \"failureMessage\": \"\", \"exceptionClass\": \"\", \"trace\": \"\"}}, \"*\")"
      ],
      "text/plain": [
       "<IPython.core.display.Javascript object>"
      ]
     },
     "metadata": {},
     "output_type": "display_data"
    },
    {
     "data": {
      "text/markdown": [
       "<span style=\"color:#33cc33\">Correct:</span> \n",
       "\n",
       "Fitting an ordinal encoder to a column in the training data creates a corresponding integer-valued label for each unique value **that appears in the training data**. In the case that the validation data contains values that don't also appear in the training data, the encoder will throw an error, because these values won't have an integer assigned to them.  Notice that the `'Condition2'` column in the validation data contains the values `'RRAn'` and `'RRNn'`, but these don't appear in the training data -- thus, if we try to use an ordinal encoder with scikit-learn, the code will throw an error."
      ],
      "text/plain": [
       "Correct: \n",
       "\n",
       "Fitting an ordinal encoder to a column in the training data creates a corresponding integer-valued label for each unique value **that appears in the training data**. In the case that the validation data contains values that don't also appear in the training data, the encoder will throw an error, because these values won't have an integer assigned to them.  Notice that the `'Condition2'` column in the validation data contains the values `'RRAn'` and `'RRNn'`, but these don't appear in the training data -- thus, if we try to use an ordinal encoder with scikit-learn, the code will throw an error."
      ]
     },
     "metadata": {},
     "output_type": "display_data"
    }
   ],
   "source": [
    "# Check your answer (Run this code cell to receive credit!)\n",
    "step_2.a.check()"
   ]
  },
  {
   "cell_type": "code",
   "execution_count": 10,
   "id": "7c4ae81f",
   "metadata": {
    "execution": {
     "iopub.execute_input": "2022-01-28T09:26:38.734132Z",
     "iopub.status.busy": "2022-01-28T09:26:38.732860Z",
     "iopub.status.idle": "2022-01-28T09:26:38.735487Z",
     "shell.execute_reply": "2022-01-28T09:26:38.735950Z",
     "shell.execute_reply.started": "2022-01-23T11:14:36.028363Z"
    },
    "papermill": {
     "duration": 0.04238,
     "end_time": "2022-01-28T09:26:38.736161",
     "exception": false,
     "start_time": "2022-01-28T09:26:38.693781",
     "status": "completed"
    },
    "tags": []
   },
   "outputs": [],
   "source": [
    "#step_2.a.hint()"
   ]
  },
  {
   "cell_type": "markdown",
   "id": "f2777dc5",
   "metadata": {
    "papermill": {
     "duration": 0.035957,
     "end_time": "2022-01-28T09:26:38.806503",
     "exception": false,
     "start_time": "2022-01-28T09:26:38.770546",
     "status": "completed"
    },
    "tags": []
   },
   "source": [
    "This is a common problem that you'll encounter with real-world data, and there are many approaches to fixing this issue.  For instance, you can write a custom ordinal encoder to deal with new categories.  The simplest approach, however, is to drop the problematic categorical columns.  \n",
    "\n",
    "Run the code cell below to save the problematic columns to a Python list `bad_label_cols`.  Likewise, columns that can be safely ordinal encoded are stored in `good_label_cols`."
   ]
  },
  {
   "cell_type": "code",
   "execution_count": 11,
   "id": "72b08bdf",
   "metadata": {
    "execution": {
     "iopub.execute_input": "2022-01-28T09:26:38.895616Z",
     "iopub.status.busy": "2022-01-28T09:26:38.894489Z",
     "iopub.status.idle": "2022-01-28T09:26:38.899530Z",
     "shell.execute_reply": "2022-01-28T09:26:38.900068Z",
     "shell.execute_reply.started": "2022-01-23T11:14:36.035845Z"
    },
    "papermill": {
     "duration": 0.05834,
     "end_time": "2022-01-28T09:26:38.900260",
     "exception": false,
     "start_time": "2022-01-28T09:26:38.841920",
     "status": "completed"
    },
    "tags": []
   },
   "outputs": [
    {
     "name": "stdout",
     "output_type": "stream",
     "text": [
      "Categorical columns that will be ordinal encoded: ['MSZoning', 'Street', 'LotShape', 'LandContour', 'Utilities', 'LotConfig', 'LandSlope', 'Neighborhood', 'Condition1', 'BldgType', 'HouseStyle', 'RoofStyle', 'Exterior1st', 'Exterior2nd', 'ExterQual', 'ExterCond', 'Foundation', 'Heating', 'HeatingQC', 'CentralAir', 'KitchenQual', 'PavedDrive', 'SaleType', 'SaleCondition']\n",
      "\n",
      "Categorical columns that will be dropped from the dataset: ['Functional', 'Condition2', 'RoofMatl']\n"
     ]
    }
   ],
   "source": [
    "# Categorical columns in the training data\n",
    "object_cols = [col for col in X_train.columns if X_train[col].dtype == \"object\"]\n",
    "\n",
    "# Columns that can be safely ordinal encoded\n",
    "good_label_cols = [col for col in object_cols if \n",
    "                   set(X_valid[col]).issubset(set(X_train[col]))]\n",
    "        \n",
    "# Problematic columns that will be dropped from the dataset\n",
    "bad_label_cols = list(set(object_cols)-set(good_label_cols))\n",
    "        \n",
    "print('Categorical columns that will be ordinal encoded:', good_label_cols)\n",
    "print('\\nCategorical columns that will be dropped from the dataset:', bad_label_cols)"
   ]
  },
  {
   "cell_type": "markdown",
   "id": "6894cd55",
   "metadata": {
    "papermill": {
     "duration": 0.036189,
     "end_time": "2022-01-28T09:26:38.971912",
     "exception": false,
     "start_time": "2022-01-28T09:26:38.935723",
     "status": "completed"
    },
    "tags": []
   },
   "source": [
    "### Part B\n",
    "\n",
    "Use the next code cell to ordinal encode the data in `X_train` and `X_valid`.  Set the preprocessed DataFrames to `label_X_train` and `label_X_valid`, respectively.  \n",
    "- We have provided code below to drop the categorical columns in `bad_label_cols` from the dataset. \n",
    "- You should ordinal encode the categorical columns in `good_label_cols`.  "
   ]
  },
  {
   "cell_type": "code",
   "execution_count": 12,
   "id": "5daf3538",
   "metadata": {
    "execution": {
     "iopub.execute_input": "2022-01-28T09:26:39.047313Z",
     "iopub.status.busy": "2022-01-28T09:26:39.046595Z",
     "iopub.status.idle": "2022-01-28T09:26:39.095014Z",
     "shell.execute_reply": "2022-01-28T09:26:39.094372Z",
     "shell.execute_reply.started": "2022-01-23T11:14:36.05997Z"
    },
    "papermill": {
     "duration": 0.086445,
     "end_time": "2022-01-28T09:26:39.095191",
     "exception": false,
     "start_time": "2022-01-28T09:26:39.008746",
     "status": "completed"
    },
    "tags": []
   },
   "outputs": [
    {
     "data": {
      "application/javascript": [
       "parent.postMessage({\"jupyterEvent\": \"custom.exercise_interaction\", \"data\": {\"outcomeType\": 1, \"valueTowardsCompletion\": 0.5, \"interactionType\": 1, \"questionType\": 2, \"questionId\": \"2.2_LabelB\", \"learnToolsVersion\": \"0.3.4\", \"failureMessage\": \"\", \"exceptionClass\": \"\", \"trace\": \"\"}}, \"*\")"
      ],
      "text/plain": [
       "<IPython.core.display.Javascript object>"
      ]
     },
     "metadata": {},
     "output_type": "display_data"
    },
    {
     "data": {
      "text/markdown": [
       "<span style=\"color:#33cc33\">Correct</span>"
      ],
      "text/plain": [
       "Correct"
      ]
     },
     "metadata": {},
     "output_type": "display_data"
    }
   ],
   "source": [
    "from sklearn.preprocessing import OrdinalEncoder\n",
    "\n",
    "# Drop categorical columns that will not be encoded\n",
    "label_X_train = X_train.drop(bad_label_cols, axis=1)\n",
    "label_X_valid = X_valid.drop(bad_label_cols, axis=1)\n",
    "\n",
    "# Apply ordinal encoder \n",
    "# Your code here\n",
    "ordinal_encoder = OrdinalEncoder()\n",
    "label_X_train[good_label_cols] = ordinal_encoder.fit_transform(X_train[good_label_cols])\n",
    "label_X_valid[good_label_cols] = ordinal_encoder.transform(X_valid[good_label_cols])\n",
    "# Check your answer\n",
    "step_2.b.check()"
   ]
  },
  {
   "cell_type": "code",
   "execution_count": 13,
   "id": "d463e421",
   "metadata": {
    "execution": {
     "iopub.execute_input": "2022-01-28T09:26:39.172291Z",
     "iopub.status.busy": "2022-01-28T09:26:39.171458Z",
     "iopub.status.idle": "2022-01-28T09:26:39.173442Z",
     "shell.execute_reply": "2022-01-28T09:26:39.174041Z",
     "shell.execute_reply.started": "2022-01-23T11:14:36.115499Z"
    },
    "papermill": {
     "duration": 0.042572,
     "end_time": "2022-01-28T09:26:39.174231",
     "exception": false,
     "start_time": "2022-01-28T09:26:39.131659",
     "status": "completed"
    },
    "tags": []
   },
   "outputs": [],
   "source": [
    "# Lines below will give you a hint or solution code\n",
    "#step_2.b.hint()\n",
    "#step_2.b.solution()"
   ]
  },
  {
   "cell_type": "markdown",
   "id": "0e25ab5a",
   "metadata": {
    "papermill": {
     "duration": 0.036672,
     "end_time": "2022-01-28T09:26:39.247355",
     "exception": false,
     "start_time": "2022-01-28T09:26:39.210683",
     "status": "completed"
    },
    "tags": []
   },
   "source": [
    "Run the next code cell to get the MAE for this approach."
   ]
  },
  {
   "cell_type": "code",
   "execution_count": 14,
   "id": "43c08e09",
   "metadata": {
    "execution": {
     "iopub.execute_input": "2022-01-28T09:26:39.322228Z",
     "iopub.status.busy": "2022-01-28T09:26:39.321506Z",
     "iopub.status.idle": "2022-01-28T09:26:40.881790Z",
     "shell.execute_reply": "2022-01-28T09:26:40.882436Z",
     "shell.execute_reply.started": "2022-01-23T11:14:36.120157Z"
    },
    "papermill": {
     "duration": 1.599507,
     "end_time": "2022-01-28T09:26:40.882621",
     "exception": false,
     "start_time": "2022-01-28T09:26:39.283114",
     "status": "completed"
    },
    "tags": []
   },
   "outputs": [
    {
     "name": "stdout",
     "output_type": "stream",
     "text": [
      "MAE from Approach 2 (Ordinal Encoding):\n",
      "17098.01649543379\n"
     ]
    }
   ],
   "source": [
    "print(\"MAE from Approach 2 (Ordinal Encoding):\") \n",
    "print(score_dataset(label_X_train, label_X_valid, y_train, y_valid))"
   ]
  },
  {
   "cell_type": "markdown",
   "id": "9cc7b6c9",
   "metadata": {
    "papermill": {
     "duration": 0.036191,
     "end_time": "2022-01-28T09:26:40.955696",
     "exception": false,
     "start_time": "2022-01-28T09:26:40.919505",
     "status": "completed"
    },
    "tags": []
   },
   "source": [
    "So far, you've tried two different approaches to dealing with categorical variables.  And, you've seen that encoding categorical data yields better results than removing columns from the dataset.\n",
    "\n",
    "Soon, you'll try one-hot encoding.  Before then, there's one additional topic we need to cover.  Begin by running the next code cell without changes.  "
   ]
  },
  {
   "cell_type": "code",
   "execution_count": 15,
   "id": "83082b6a",
   "metadata": {
    "execution": {
     "iopub.execute_input": "2022-01-28T09:26:41.033051Z",
     "iopub.status.busy": "2022-01-28T09:26:41.031967Z",
     "iopub.status.idle": "2022-01-28T09:26:41.045767Z",
     "shell.execute_reply": "2022-01-28T09:26:41.046356Z",
     "shell.execute_reply.started": "2022-01-23T11:14:37.700555Z"
    },
    "papermill": {
     "duration": 0.054348,
     "end_time": "2022-01-28T09:26:41.046538",
     "exception": false,
     "start_time": "2022-01-28T09:26:40.992190",
     "status": "completed"
    },
    "tags": []
   },
   "outputs": [
    {
     "data": {
      "text/plain": [
       "[('Street', 2),\n",
       " ('Utilities', 2),\n",
       " ('CentralAir', 2),\n",
       " ('LandSlope', 3),\n",
       " ('PavedDrive', 3),\n",
       " ('LotShape', 4),\n",
       " ('LandContour', 4),\n",
       " ('ExterQual', 4),\n",
       " ('KitchenQual', 4),\n",
       " ('MSZoning', 5),\n",
       " ('LotConfig', 5),\n",
       " ('BldgType', 5),\n",
       " ('ExterCond', 5),\n",
       " ('HeatingQC', 5),\n",
       " ('Condition2', 6),\n",
       " ('RoofStyle', 6),\n",
       " ('Foundation', 6),\n",
       " ('Heating', 6),\n",
       " ('Functional', 6),\n",
       " ('SaleCondition', 6),\n",
       " ('RoofMatl', 7),\n",
       " ('HouseStyle', 8),\n",
       " ('Condition1', 9),\n",
       " ('SaleType', 9),\n",
       " ('Exterior1st', 15),\n",
       " ('Exterior2nd', 16),\n",
       " ('Neighborhood', 25)]"
      ]
     },
     "execution_count": 15,
     "metadata": {},
     "output_type": "execute_result"
    }
   ],
   "source": [
    "# Get number of unique entries in each column with categorical data\n",
    "object_nunique = list(map(lambda col: X_train[col].nunique(), object_cols))\n",
    "d = dict(zip(object_cols, object_nunique))\n",
    "\n",
    "# Print number of unique entries by column, in ascending order\n",
    "sorted(d.items(), key=lambda x: x[1])"
   ]
  },
  {
   "cell_type": "markdown",
   "id": "05341946",
   "metadata": {
    "papermill": {
     "duration": 0.03708,
     "end_time": "2022-01-28T09:26:41.121042",
     "exception": false,
     "start_time": "2022-01-28T09:26:41.083962",
     "status": "completed"
    },
    "tags": []
   },
   "source": [
    "# Step 3: Investigating cardinality\n",
    "\n",
    "### Part A\n",
    "\n",
    "The output above shows, for each column with categorical data, the number of unique values in the column.  For instance, the `'Street'` column in the training data has two unique values: `'Grvl'` and `'Pave'`, corresponding to a gravel road and a paved road, respectively.\n",
    "\n",
    "We refer to the number of unique entries of a categorical variable as the **cardinality** of that categorical variable.  For instance, the `'Street'` variable has cardinality 2.\n",
    "\n",
    "Use the output above to answer the questions below."
   ]
  },
  {
   "cell_type": "code",
   "execution_count": 16,
   "id": "69f7f6eb",
   "metadata": {
    "execution": {
     "iopub.execute_input": "2022-01-28T09:26:41.198949Z",
     "iopub.status.busy": "2022-01-28T09:26:41.197825Z",
     "iopub.status.idle": "2022-01-28T09:26:41.205983Z",
     "shell.execute_reply": "2022-01-28T09:26:41.206615Z",
     "shell.execute_reply.started": "2022-01-23T11:14:37.716913Z"
    },
    "papermill": {
     "duration": 0.049137,
     "end_time": "2022-01-28T09:26:41.206789",
     "exception": false,
     "start_time": "2022-01-28T09:26:41.157652",
     "status": "completed"
    },
    "tags": []
   },
   "outputs": [
    {
     "data": {
      "application/javascript": [
       "parent.postMessage({\"jupyterEvent\": \"custom.exercise_interaction\", \"data\": {\"outcomeType\": 1, \"valueTowardsCompletion\": 0.5, \"interactionType\": 1, \"questionType\": 1, \"questionId\": \"3.1_CardinalityA\", \"learnToolsVersion\": \"0.3.4\", \"failureMessage\": \"\", \"exceptionClass\": \"\", \"trace\": \"\"}}, \"*\")"
      ],
      "text/plain": [
       "<IPython.core.display.Javascript object>"
      ]
     },
     "metadata": {},
     "output_type": "display_data"
    },
    {
     "data": {
      "text/markdown": [
       "<span style=\"color:#33cc33\">Correct</span>"
      ],
      "text/plain": [
       "Correct"
      ]
     },
     "metadata": {},
     "output_type": "display_data"
    }
   ],
   "source": [
    "# Fill in the line below: How many categorical variables in the training data\n",
    "# have cardinality greater than 10?\n",
    "high_cardinality_numcols = 3\n",
    "\n",
    "# Fill in the line below: How many columns are needed to one-hot encode the \n",
    "# 'Neighborhood' variable in the training data?\n",
    "num_cols_neighborhood = 25\n",
    "\n",
    "# Check your answers\n",
    "step_3.a.check()"
   ]
  },
  {
   "cell_type": "code",
   "execution_count": 17,
   "id": "16ac764c",
   "metadata": {
    "execution": {
     "iopub.execute_input": "2022-01-28T09:26:41.285908Z",
     "iopub.status.busy": "2022-01-28T09:26:41.284854Z",
     "iopub.status.idle": "2022-01-28T09:26:41.288942Z",
     "shell.execute_reply": "2022-01-28T09:26:41.288421Z",
     "shell.execute_reply.started": "2022-01-23T11:14:37.727002Z"
    },
    "papermill": {
     "duration": 0.04488,
     "end_time": "2022-01-28T09:26:41.289136",
     "exception": false,
     "start_time": "2022-01-28T09:26:41.244256",
     "status": "completed"
    },
    "tags": []
   },
   "outputs": [],
   "source": [
    "# Lines below will give you a hint or solution code\n",
    "#step_3.a.hint()\n",
    "#step_3.a.solution()"
   ]
  },
  {
   "cell_type": "markdown",
   "id": "12ef0030",
   "metadata": {
    "papermill": {
     "duration": 0.037769,
     "end_time": "2022-01-28T09:26:41.366601",
     "exception": false,
     "start_time": "2022-01-28T09:26:41.328832",
     "status": "completed"
    },
    "tags": []
   },
   "source": [
    "### Part B\n",
    "\n",
    "For large datasets with many rows, one-hot encoding can greatly expand the size of the dataset.  For this reason, we typically will only one-hot encode columns with relatively low cardinality.  Then, high cardinality columns can either be dropped from the dataset, or we can use ordinal encoding.\n",
    "\n",
    "As an example, consider a dataset with 10,000 rows, and containing one categorical column with 100 unique entries.  \n",
    "- If this column is replaced with the corresponding one-hot encoding, how many entries are added to the dataset?  \n",
    "- If we instead replace the column with the ordinal encoding, how many entries are added?  \n",
    "\n",
    "Use your answers to fill in the lines below."
   ]
  },
  {
   "cell_type": "code",
   "execution_count": 18,
   "id": "84c4c961",
   "metadata": {
    "execution": {
     "iopub.execute_input": "2022-01-28T09:26:41.447953Z",
     "iopub.status.busy": "2022-01-28T09:26:41.447245Z",
     "iopub.status.idle": "2022-01-28T09:26:41.451457Z",
     "shell.execute_reply": "2022-01-28T09:26:41.451979Z",
     "shell.execute_reply.started": "2022-01-23T11:14:37.738339Z"
    },
    "papermill": {
     "duration": 0.047646,
     "end_time": "2022-01-28T09:26:41.452204",
     "exception": false,
     "start_time": "2022-01-28T09:26:41.404558",
     "status": "completed"
    },
    "tags": []
   },
   "outputs": [
    {
     "data": {
      "application/javascript": [
       "parent.postMessage({\"jupyterEvent\": \"custom.exercise_interaction\", \"data\": {\"outcomeType\": 1, \"valueTowardsCompletion\": 0.5, \"interactionType\": 1, \"questionType\": 1, \"questionId\": \"3.2_CardinalityB\", \"learnToolsVersion\": \"0.3.4\", \"failureMessage\": \"\", \"exceptionClass\": \"\", \"trace\": \"\"}}, \"*\")"
      ],
      "text/plain": [
       "<IPython.core.display.Javascript object>"
      ]
     },
     "metadata": {},
     "output_type": "display_data"
    },
    {
     "data": {
      "text/markdown": [
       "<span style=\"color:#33cc33\">Correct</span>"
      ],
      "text/plain": [
       "Correct"
      ]
     },
     "metadata": {},
     "output_type": "display_data"
    }
   ],
   "source": [
    "# Fill in the line below: How many entries are added to the dataset by \n",
    "# replacing the column with a one-hot encoding?\n",
    "OH_entries_added = (100 * 10000) - 10000\n",
    "\n",
    "# Fill in the line below: How many entries are added to the dataset by\n",
    "# replacing the column with an ordinal encoding?\n",
    "label_entries_added = 0\n",
    "# Check your answers\n",
    "step_3.b.check()"
   ]
  },
  {
   "cell_type": "code",
   "execution_count": 19,
   "id": "4079c108",
   "metadata": {
    "execution": {
     "iopub.execute_input": "2022-01-28T09:26:41.533624Z",
     "iopub.status.busy": "2022-01-28T09:26:41.532919Z",
     "iopub.status.idle": "2022-01-28T09:26:41.536139Z",
     "shell.execute_reply": "2022-01-28T09:26:41.536646Z",
     "shell.execute_reply.started": "2022-01-23T11:14:37.754724Z"
    },
    "papermill": {
     "duration": 0.046078,
     "end_time": "2022-01-28T09:26:41.536818",
     "exception": false,
     "start_time": "2022-01-28T09:26:41.490740",
     "status": "completed"
    },
    "tags": []
   },
   "outputs": [],
   "source": [
    "# Lines below will give you a hint or solution code\n",
    "#step_3.b.hint()\n",
    "#step_3.b.solution()"
   ]
  },
  {
   "cell_type": "markdown",
   "id": "21685f45",
   "metadata": {
    "papermill": {
     "duration": 0.038381,
     "end_time": "2022-01-28T09:26:41.615176",
     "exception": false,
     "start_time": "2022-01-28T09:26:41.576795",
     "status": "completed"
    },
    "tags": []
   },
   "source": [
    "Next, you'll experiment with one-hot encoding.  But, instead of encoding all of the categorical variables in the dataset, you'll only create a one-hot encoding for columns with cardinality less than 10.\n",
    "\n",
    "Run the code cell below without changes to set `low_cardinality_cols` to a Python list containing the columns that will be one-hot encoded.  Likewise, `high_cardinality_cols` contains a list of categorical columns that will be dropped from the dataset."
   ]
  },
  {
   "cell_type": "code",
   "execution_count": 20,
   "id": "f9fd9c7e",
   "metadata": {
    "execution": {
     "iopub.execute_input": "2022-01-28T09:26:41.695506Z",
     "iopub.status.busy": "2022-01-28T09:26:41.694834Z",
     "iopub.status.idle": "2022-01-28T09:26:41.708381Z",
     "shell.execute_reply": "2022-01-28T09:26:41.709123Z",
     "shell.execute_reply.started": "2022-01-23T11:14:37.761464Z"
    },
    "papermill": {
     "duration": 0.055667,
     "end_time": "2022-01-28T09:26:41.709384",
     "exception": false,
     "start_time": "2022-01-28T09:26:41.653717",
     "status": "completed"
    },
    "tags": []
   },
   "outputs": [
    {
     "name": "stdout",
     "output_type": "stream",
     "text": [
      "Categorical columns that will be one-hot encoded: ['MSZoning', 'Street', 'LotShape', 'LandContour', 'Utilities', 'LotConfig', 'LandSlope', 'Condition1', 'Condition2', 'BldgType', 'HouseStyle', 'RoofStyle', 'RoofMatl', 'ExterQual', 'ExterCond', 'Foundation', 'Heating', 'HeatingQC', 'CentralAir', 'KitchenQual', 'Functional', 'PavedDrive', 'SaleType', 'SaleCondition']\n",
      "\n",
      "Categorical columns that will be dropped from the dataset: ['Neighborhood', 'Exterior1st', 'Exterior2nd']\n"
     ]
    }
   ],
   "source": [
    "# Columns that will be one-hot encoded\n",
    "low_cardinality_cols = [col for col in object_cols if X_train[col].nunique() < 10]\n",
    "\n",
    "# Columns that will be dropped from the dataset\n",
    "high_cardinality_cols = list(set(object_cols)-set(low_cardinality_cols))\n",
    "\n",
    "print('Categorical columns that will be one-hot encoded:', low_cardinality_cols)\n",
    "print('\\nCategorical columns that will be dropped from the dataset:', high_cardinality_cols)"
   ]
  },
  {
   "cell_type": "markdown",
   "id": "b99d1bea",
   "metadata": {
    "papermill": {
     "duration": 0.038507,
     "end_time": "2022-01-28T09:26:41.792055",
     "exception": false,
     "start_time": "2022-01-28T09:26:41.753548",
     "status": "completed"
    },
    "tags": []
   },
   "source": [
    "# Step 4: One-hot encoding\n",
    "\n",
    "Use the next code cell to one-hot encode the data in `X_train` and `X_valid`.  Set the preprocessed DataFrames to `OH_X_train` and `OH_X_valid`, respectively.  \n",
    "- The full list of categorical columns in the dataset can be found in the Python list `object_cols`.\n",
    "- You should only one-hot encode the categorical columns in `low_cardinality_cols`.  All other categorical columns should be dropped from the dataset. "
   ]
  },
  {
   "cell_type": "code",
   "execution_count": 21,
   "id": "c2290071",
   "metadata": {
    "execution": {
     "iopub.execute_input": "2022-01-28T09:26:41.874383Z",
     "iopub.status.busy": "2022-01-28T09:26:41.873294Z",
     "iopub.status.idle": "2022-01-28T09:26:41.926728Z",
     "shell.execute_reply": "2022-01-28T09:26:41.926052Z",
     "shell.execute_reply.started": "2022-01-23T11:14:37.778706Z"
    },
    "papermill": {
     "duration": 0.095908,
     "end_time": "2022-01-28T09:26:41.926870",
     "exception": false,
     "start_time": "2022-01-28T09:26:41.830962",
     "status": "completed"
    },
    "tags": []
   },
   "outputs": [
    {
     "data": {
      "application/javascript": [
       "parent.postMessage({\"jupyterEvent\": \"custom.exercise_interaction\", \"data\": {\"outcomeType\": 1, \"valueTowardsCompletion\": 0.5, \"interactionType\": 1, \"questionType\": 2, \"questionId\": \"4_OneHot\", \"learnToolsVersion\": \"0.3.4\", \"failureMessage\": \"\", \"exceptionClass\": \"\", \"trace\": \"\"}}, \"*\")"
      ],
      "text/plain": [
       "<IPython.core.display.Javascript object>"
      ]
     },
     "metadata": {},
     "output_type": "display_data"
    },
    {
     "data": {
      "text/markdown": [
       "<span style=\"color:#33cc33\">Correct</span>"
      ],
      "text/plain": [
       "Correct"
      ]
     },
     "metadata": {},
     "output_type": "display_data"
    }
   ],
   "source": [
    "from sklearn.preprocessing import OneHotEncoder\n",
    "\n",
    "# Columns that will be one-hot encoded\n",
    "low_cardinality_cols = [col for col in object_cols if X_train[col].nunique() < 10]\n",
    "\n",
    "# select numerical columns\n",
    "numerical_cols =[col for col in X_train.columns if X_train[col].dtype in ['int64' or 'float64']]\n",
    "\n",
    "# keep selected columns only\n",
    "my_cols = low_cardinality_cols + numerical_cols\n",
    "X_train = X_train[my_cols].copy()\n",
    "X_valid = X_valid[my_cols].copy()\n",
    "\n",
    "OH_encoder = OneHotEncoder(handle_unknown='ignore',sparse=False)\n",
    "OH_cols_train = pd.DataFrame(OH_encoder.fit_transform(X_train[low_cardinality_cols]))\n",
    "OH_cols_valid = pd.DataFrame(OH_encoder.transform(X_valid[low_cardinality_cols]))\n",
    "\n",
    "# One-hot encoding removed index; put it back\n",
    "OH_cols_train.index = X_train.index\n",
    "OH_cols_valid.index = X_valid.index\n",
    "\n",
    "\n",
    "# Remove categorical columns (will replace with one-hot encoding)\n",
    "num_X_train = X_train.drop(low_cardinality_cols, axis=1)\n",
    "num_X_valid = X_valid.drop(low_cardinality_cols, axis=1)\n",
    "\n",
    "\n",
    "# Add one-hot encoded columns to numerical features\n",
    "OH_X_train = pd.concat([num_X_train, OH_cols_train], axis=1)\n",
    "OH_X_valid = pd.concat([num_X_valid, OH_cols_valid], axis=1)\n",
    "\n",
    "\n",
    "# Check your answer\n",
    "step_4.check()"
   ]
  },
  {
   "cell_type": "code",
   "execution_count": 22,
   "id": "e5819da0",
   "metadata": {
    "execution": {
     "iopub.execute_input": "2022-01-28T09:26:42.010824Z",
     "iopub.status.busy": "2022-01-28T09:26:42.009777Z",
     "iopub.status.idle": "2022-01-28T09:26:42.014273Z",
     "shell.execute_reply": "2022-01-28T09:26:42.014817Z",
     "shell.execute_reply.started": "2022-01-23T11:14:37.841154Z"
    },
    "papermill": {
     "duration": 0.048115,
     "end_time": "2022-01-28T09:26:42.014992",
     "exception": false,
     "start_time": "2022-01-28T09:26:41.966877",
     "status": "completed"
    },
    "tags": []
   },
   "outputs": [],
   "source": [
    "# Lines below will give you a hint or solution code\n",
    "#step_4.hint()\n",
    "#step_4.solution()"
   ]
  },
  {
   "cell_type": "markdown",
   "id": "55c01fae",
   "metadata": {
    "papermill": {
     "duration": 0.03984,
     "end_time": "2022-01-28T09:26:42.095488",
     "exception": false,
     "start_time": "2022-01-28T09:26:42.055648",
     "status": "completed"
    },
    "tags": []
   },
   "source": [
    "Run the next code cell to get the MAE for this approach."
   ]
  },
  {
   "cell_type": "code",
   "execution_count": 23,
   "id": "ec776872",
   "metadata": {
    "execution": {
     "iopub.execute_input": "2022-01-28T09:26:42.179723Z",
     "iopub.status.busy": "2022-01-28T09:26:42.178648Z",
     "iopub.status.idle": "2022-01-28T09:26:44.110696Z",
     "shell.execute_reply": "2022-01-28T09:26:44.109845Z",
     "shell.execute_reply.started": "2022-01-23T11:14:37.847292Z"
    },
    "papermill": {
     "duration": 1.975476,
     "end_time": "2022-01-28T09:26:44.110904",
     "exception": false,
     "start_time": "2022-01-28T09:26:42.135428",
     "status": "completed"
    },
    "tags": []
   },
   "outputs": [
    {
     "name": "stdout",
     "output_type": "stream",
     "text": [
      "MAE from Approach 3 (One-Hot Encoding):\n",
      "17525.345719178084\n"
     ]
    }
   ],
   "source": [
    "print(\"MAE from Approach 3 (One-Hot Encoding):\") \n",
    "print(score_dataset(OH_X_train, OH_X_valid, y_train, y_valid))"
   ]
  },
  {
   "cell_type": "code",
   "execution_count": 24,
   "id": "e9f3b5c9",
   "metadata": {
    "execution": {
     "iopub.execute_input": "2022-01-28T09:26:44.196848Z",
     "iopub.status.busy": "2022-01-28T09:26:44.196074Z",
     "iopub.status.idle": "2022-01-28T09:26:46.474128Z",
     "shell.execute_reply": "2022-01-28T09:26:46.474735Z",
     "shell.execute_reply.started": "2022-01-23T11:14:39.809604Z"
    },
    "papermill": {
     "duration": 2.322302,
     "end_time": "2022-01-28T09:26:46.474915",
     "exception": false,
     "start_time": "2022-01-28T09:26:44.152613",
     "status": "completed"
    },
    "tags": []
   },
   "outputs": [],
   "source": [
    "# (Optional) Your code here\n",
    "#### DATASETS LOAD ####\n",
    "import pandas as pd\n",
    "from sklearn.model_selection import train_test_split\n",
    "\n",
    "# Read the data\n",
    "X = pd.read_csv('../input/train.csv', index_col='Id') \n",
    "X_test = pd.read_csv('../input/test.csv', index_col='Id')\n",
    "\n",
    "# Remove rows with missing target, separate target from predictors\n",
    "X.dropna(axis=0, subset=['SalePrice'], inplace=True)\n",
    "y = X.SalePrice\n",
    "X.drop(['SalePrice'], axis=1, inplace=True)\n",
    "\n",
    "# To keep things simple, we'll drop columns with missing values\n",
    "cols_with_missing = [col for col in X.columns if X[col].isnull().any()] \n",
    "X.drop(cols_with_missing, axis=1, inplace=True)\n",
    "X_test.drop(cols_with_missing, axis=1, inplace=True)\n",
    "\n",
    "# Break off validation set from training data\n",
    "X_train, X_valid, y_train, y_valid = train_test_split(X, y,\n",
    "                                                      train_size=0.8, test_size=0.2,\n",
    "                                                      random_state=0)\n",
    "\n",
    "#### IMPUTATION OF MISSING VALUES FOR X_TEST ####\n",
    "from sklearn.impute import SimpleImputer\n",
    "\n",
    "# All categorical columns\n",
    "object_cols = [col for col in X_train.columns if X_train[col].dtype == \"object\"]\n",
    "\n",
    "# Columns that will be one-hot encoded\n",
    "low_cardinality_cols = [col for col in object_cols if X_train[col].nunique() < 10]\n",
    "\n",
    "# Fill in the lines below: imputation\n",
    "my_imputer = SimpleImputer(strategy='most_frequent')\n",
    "imputed_X_test = pd.DataFrame(my_imputer.fit_transform(X_test))\n",
    "\n",
    "# Fill in the lines below: imputation removed column names; put them back\n",
    "imputed_X_test.columns = X_test.columns \n",
    "imputed_X_test.index = X_test.index ###FIX\n",
    "\n",
    "#### ONEHOT ENCODING FOR DATA #####\n",
    "from sklearn.preprocessing import OneHotEncoder\n",
    "\n",
    "# Apply one-hot encoder to each column with categorical data\n",
    "OH_encoder = OneHotEncoder(handle_unknown='ignore', sparse=False)\n",
    "OH_cols_train = pd.DataFrame(OH_encoder.fit_transform(X_train[low_cardinality_cols]))\n",
    "OH_cols_valid = pd.DataFrame(OH_encoder.transform(X_valid[low_cardinality_cols]))\n",
    "OH_cols_test = pd.DataFrame(OH_encoder.transform(imputed_X_test[low_cardinality_cols]))\n",
    "\n",
    "# One-hot encoding removed index; put it back\n",
    "OH_cols_train.index = X_train.index\n",
    "OH_cols_valid.index = X_valid.index\n",
    "OH_cols_test.index = imputed_X_test.index ####FIX\n",
    "\n",
    "# Remove categorical columns (will replace with one-hot encoding)\n",
    "num_X_train = X_train.drop(object_cols, axis=1)\n",
    "num_X_valid = X_valid.drop(object_cols, axis=1)\n",
    "num_X_test = imputed_X_test.drop(object_cols, axis=1) ####FIX\n",
    "\n",
    "# Add one-hot encoded columns to numerical features\n",
    "OH_X_train = pd.concat([num_X_train, OH_cols_train], axis=1)\n",
    "OH_X_valid = pd.concat([num_X_valid, OH_cols_valid], axis=1)\n",
    "OH_X_test = pd.concat([num_X_test, OH_cols_test], axis=1)\n",
    "\n",
    "##### BUILD MODEL AND CREATE SUBMISSION ####\n",
    "from sklearn.ensemble import RandomForestRegressor\n",
    "from sklearn.metrics import mean_absolute_error\n",
    "\n",
    "# normalize datatypes columns\n",
    "#for colName in  ['BsmtFinSF1', 'BsmtFinSF2', 'BsmtUnfSF', 'TotalBsmtSF', 'BsmtFullBath', 'BsmtHalfBath', 'GarageCars', 'GarageArea']:\n",
    "#    OH_X_train[colName] = OH_X_train[colName].astype('float64')\n",
    "#    OH_X_valid[colName] = OH_X_train[colName].astype('float64')\n",
    "\n",
    "# Build model\n",
    "model = RandomForestRegressor(n_estimators=100, random_state=0)\n",
    "model.fit(OH_X_train, y_train)\n",
    "preds_test = model.predict(OH_X_test)\n",
    "\n",
    "# Save test predictions to file\n",
    "output = pd.DataFrame({'Id': OH_X_test.index,\n",
    "                       'SalePrice': preds_test})\n",
    "output.to_csv('submission.csv', index=False)"
   ]
  },
  {
   "cell_type": "markdown",
   "id": "4985c851",
   "metadata": {
    "papermill": {
     "duration": 0.040461,
     "end_time": "2022-01-28T09:26:46.556145",
     "exception": false,
     "start_time": "2022-01-28T09:26:46.515684",
     "status": "completed"
    },
    "tags": []
   },
   "source": [
    "# Generate test predictions and submit your results\n",
    "\n",
    "After you complete Step 4, if you'd like to use what you've learned to submit your results to the leaderboard, you'll need to preprocess the test data before generating predictions.\n",
    "\n",
    "**This step is completely optional, and you do not need to submit results to the leaderboard to successfully complete the exercise.**\n",
    "\n",
    "Check out the previous exercise if you need help with remembering how to [join the competition](https://www.kaggle.com/c/home-data-for-ml-course) or save your results to CSV.  Once you have generated a file with your results, follow the instructions below:\n",
    "1. Begin by clicking on the **Save Version** button in the top right corner of the window.  This will generate a pop-up window.  \n",
    "2. Ensure that the **Save and Run All** option is selected, and then click on the **Save** button.\n",
    "3. This generates a window in the bottom left corner of the notebook.  After it has finished running, click on the number to the right of the **Save Version** button.  This pulls up a list of versions on the right of the screen.  Click on the ellipsis **(...)** to the right of the most recent version, and select **Open in Viewer**.  This brings you into view mode of the same page. You will need to scroll down to get back to these instructions.\n",
    "4. Click on the **Output** tab on the right of the screen.  Then, click on the file you would like to submit, and click on the **Submit** button to submit your results to the leaderboard.\n",
    "\n",
    "You have now successfully submitted to the competition!\n",
    "\n",
    "If you want to keep working to improve your performance, select the **Edit** button in the top right of the screen. Then you can change your code and repeat the process. There's a lot of room to improve, and you will climb up the leaderboard as you work.\n"
   ]
  },
  {
   "cell_type": "markdown",
   "id": "59107e4f",
   "metadata": {
    "papermill": {
     "duration": 0.04109,
     "end_time": "2022-01-28T09:26:46.637559",
     "exception": false,
     "start_time": "2022-01-28T09:26:46.596469",
     "status": "completed"
    },
    "tags": []
   },
   "source": [
    "# Keep going\n",
    "\n",
    "With missing value handling and categorical encoding, your modeling process is getting complex. This complexity gets worse when you want to save your model to use in the future. The key to managing this complexity is something called **pipelines**. \n",
    "\n",
    "**[Learn to use pipelines](https://www.kaggle.com/alexisbcook/pipelines)** to preprocess datasets with categorical variables, missing values and any other messiness your data throws at you."
   ]
  },
  {
   "cell_type": "markdown",
   "id": "d09f26d6",
   "metadata": {
    "papermill": {
     "duration": 0.040659,
     "end_time": "2022-01-28T09:26:46.719969",
     "exception": false,
     "start_time": "2022-01-28T09:26:46.679310",
     "status": "completed"
    },
    "tags": []
   },
   "source": [
    "---\n",
    "\n",
    "\n",
    "\n",
    "\n",
    "*Have questions or comments? Visit the [course discussion forum](https://www.kaggle.com/learn/intermediate-machine-learning/discussion) to chat with other learners.*"
   ]
  }
 ],
 "metadata": {
  "kernelspec": {
   "display_name": "Python 3",
   "language": "python",
   "name": "python3"
  },
  "language_info": {
   "codemirror_mode": {
    "name": "ipython",
    "version": 3
   },
   "file_extension": ".py",
   "mimetype": "text/x-python",
   "name": "python",
   "nbconvert_exporter": "python",
   "pygments_lexer": "ipython3",
   "version": "3.7.12"
  },
  "papermill": {
   "default_parameters": {},
   "duration": 24.466249,
   "end_time": "2022-01-28T09:26:47.571297",
   "environment_variables": {},
   "exception": null,
   "input_path": "__notebook__.ipynb",
   "output_path": "__notebook__.ipynb",
   "parameters": {},
   "start_time": "2022-01-28T09:26:23.105048",
   "version": "2.3.3"
  }
 },
 "nbformat": 4,
 "nbformat_minor": 5
}
