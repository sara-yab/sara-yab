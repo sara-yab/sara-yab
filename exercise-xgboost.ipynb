{
 "cells": [
  {
   "cell_type": "markdown",
   "id": "00130499",
   "metadata": {
    "papermill": {
     "duration": 0.017819,
     "end_time": "2022-01-28T11:55:33.422223",
     "exception": false,
     "start_time": "2022-01-28T11:55:33.404404",
     "status": "completed"
    },
    "tags": []
   },
   "source": [
    "**This notebook is an exercise in the [Intermediate Machine Learning](https://www.kaggle.com/learn/intermediate-machine-learning) course.  You can reference the tutorial at [this link](https://www.kaggle.com/alexisbcook/xgboost).**\n",
    "\n",
    "---\n"
   ]
  },
  {
   "cell_type": "markdown",
   "id": "d4d291be",
   "metadata": {
    "papermill": {
     "duration": 0.015573,
     "end_time": "2022-01-28T11:55:33.454235",
     "exception": false,
     "start_time": "2022-01-28T11:55:33.438662",
     "status": "completed"
    },
    "tags": []
   },
   "source": [
    "In this exercise, you will use your new knowledge to train a model with **gradient boosting**.\n",
    "\n",
    "# Setup\n",
    "\n",
    "The questions below will give you feedback on your work. Run the following cell to set up the feedback system."
   ]
  },
  {
   "cell_type": "code",
   "execution_count": 1,
   "id": "6ef15d94",
   "metadata": {
    "execution": {
     "iopub.execute_input": "2022-01-28T11:55:33.495316Z",
     "iopub.status.busy": "2022-01-28T11:55:33.494642Z",
     "iopub.status.idle": "2022-01-28T11:55:36.134666Z",
     "shell.execute_reply": "2022-01-28T11:55:36.135494Z",
     "shell.execute_reply.started": "2022-01-28T10:55:21.979947Z"
    },
    "papermill": {
     "duration": 2.66587,
     "end_time": "2022-01-28T11:55:36.136007",
     "exception": false,
     "start_time": "2022-01-28T11:55:33.470137",
     "status": "completed"
    },
    "tags": []
   },
   "outputs": [
    {
     "name": "stdout",
     "output_type": "stream",
     "text": [
      "Setup Complete\n"
     ]
    }
   ],
   "source": [
    "# Set up code checking\n",
    "import os\n",
    "if not os.path.exists(\"../input/train.csv\"):\n",
    "    os.symlink(\"../input/home-data-for-ml-course/train.csv\", \"../input/train.csv\")  \n",
    "    os.symlink(\"../input/home-data-for-ml-course/test.csv\", \"../input/test.csv\") \n",
    "from learntools.core import binder\n",
    "binder.bind(globals())\n",
    "from learntools.ml_intermediate.ex6 import *\n",
    "print(\"Setup Complete\")"
   ]
  },
  {
   "cell_type": "markdown",
   "id": "5f968b69",
   "metadata": {
    "papermill": {
     "duration": 0.01585,
     "end_time": "2022-01-28T11:55:36.170160",
     "exception": false,
     "start_time": "2022-01-28T11:55:36.154310",
     "status": "completed"
    },
    "tags": []
   },
   "source": [
    "You will work with the [Housing Prices Competition for Kaggle Learn Users](https://www.kaggle.com/c/home-data-for-ml-course) dataset from the previous exercise. \n",
    "\n",
    "![Ames Housing dataset image](https://i.imgur.com/lTJVG4e.png)\n",
    "\n",
    "Run the next code cell without changes to load the training and validation sets in `X_train`, `X_valid`, `y_train`, and `y_valid`.  The test set is loaded in `X_test`."
   ]
  },
  {
   "cell_type": "code",
   "execution_count": 2,
   "id": "16bfcc12",
   "metadata": {
    "execution": {
     "iopub.execute_input": "2022-01-28T11:55:36.215086Z",
     "iopub.status.busy": "2022-01-28T11:55:36.214213Z",
     "iopub.status.idle": "2022-01-28T11:55:36.426177Z",
     "shell.execute_reply": "2022-01-28T11:55:36.425489Z",
     "shell.execute_reply.started": "2022-01-28T11:01:18.947955Z"
    },
    "papermill": {
     "duration": 0.239246,
     "end_time": "2022-01-28T11:55:36.426370",
     "exception": false,
     "start_time": "2022-01-28T11:55:36.187124",
     "status": "completed"
    },
    "tags": []
   },
   "outputs": [],
   "source": [
    "import pandas as pd\n",
    "from sklearn.model_selection import train_test_split\n",
    "\n",
    "# Read the data\n",
    "X = pd.read_csv('../input/train.csv', index_col='Id')\n",
    "X_test_full = pd.read_csv('../input/test.csv', index_col='Id')\n",
    "\n",
    "# Remove rows with missing target, separate target from predictors\n",
    "X.dropna(axis=0, subset=['SalePrice'], inplace=True)\n",
    "y = X.SalePrice              \n",
    "X.drop(['SalePrice'], axis=1, inplace=True)\n",
    "\n",
    "# Break off validation set from training data\n",
    "X_train_full, X_valid_full, y_train, y_valid = train_test_split(X, y, train_size=0.8, test_size=0.2,\n",
    "                                                                random_state=0)\n",
    "\n",
    "# \"Cardinality\" means the number of unique values in a column\n",
    "# Select categorical columns with relatively low cardinality (convenient but arbitrary)\n",
    "low_cardinality_cols = [cname for cname in X_train_full.columns if X_train_full[cname].nunique() < 10 and \n",
    "                        X_train_full[cname].dtype == \"object\"]\n",
    "\n",
    "# Select numeric columns\n",
    "numeric_cols = [cname for cname in X_train_full.columns if X_train_full[cname].dtype in ['int64', 'float64']]\n",
    "\n",
    "# Keep selected columns only\n",
    "my_cols = low_cardinality_cols + numeric_cols\n",
    "X_train = X_train_full[my_cols].copy()\n",
    "X_valid = X_valid_full[my_cols].copy()\n",
    "X_test = X_test_full[my_cols].copy()\n",
    "\n",
    "# One-hot encode the data (to shorten the code, we use pandas)\n",
    "X_train = pd.get_dummies(X_train)\n",
    "X_valid = pd.get_dummies(X_valid)\n",
    "X_test = pd.get_dummies(X_test)\n",
    "X_train, X_valid = X_train.align(X_valid, join='left', axis=1)\n",
    "X_train, X_test = X_train.align(X_test, join='left', axis=1)"
   ]
  },
  {
   "cell_type": "markdown",
   "id": "fbb3d844",
   "metadata": {
    "papermill": {
     "duration": 0.016169,
     "end_time": "2022-01-28T11:55:36.459475",
     "exception": false,
     "start_time": "2022-01-28T11:55:36.443306",
     "status": "completed"
    },
    "tags": []
   },
   "source": [
    "# Step 1: Build model\n",
    "\n",
    "### Part A\n",
    "\n",
    "In this step, you'll build and train your first model with gradient boosting.\n",
    "\n",
    "- Begin by setting `my_model_1` to an XGBoost model.  Use the [XGBRegressor](https://xgboost.readthedocs.io/en/latest/python/python_api.html#xgboost.XGBRegressor) class, and set the random seed to 0 (`random_state=0`).  **Leave all other parameters as default.**\n",
    "- Then, fit the model to the training data in `X_train` and `y_train`."
   ]
  },
  {
   "cell_type": "code",
   "execution_count": 3,
   "id": "4221fd14",
   "metadata": {
    "execution": {
     "iopub.execute_input": "2022-01-28T11:55:36.506022Z",
     "iopub.status.busy": "2022-01-28T11:55:36.498483Z",
     "iopub.status.idle": "2022-01-28T11:55:37.565784Z",
     "shell.execute_reply": "2022-01-28T11:55:37.566367Z",
     "shell.execute_reply.started": "2022-01-28T11:34:26.383211Z"
    },
    "papermill": {
     "duration": 1.090884,
     "end_time": "2022-01-28T11:55:37.566574",
     "exception": false,
     "start_time": "2022-01-28T11:55:36.475690",
     "status": "completed"
    },
    "tags": []
   },
   "outputs": [
    {
     "data": {
      "application/javascript": [
       "parent.postMessage({\"jupyterEvent\": \"custom.exercise_interaction\", \"data\": {\"outcomeType\": 1, \"valueTowardsCompletion\": 0.5, \"interactionType\": 1, \"questionType\": 2, \"questionId\": \"1.1_Model1A\", \"learnToolsVersion\": \"0.3.4\", \"failureMessage\": \"\", \"exceptionClass\": \"\", \"trace\": \"\"}}, \"*\")"
      ],
      "text/plain": [
       "<IPython.core.display.Javascript object>"
      ]
     },
     "metadata": {},
     "output_type": "display_data"
    },
    {
     "data": {
      "text/markdown": [
       "<span style=\"color:#33cc33\">Correct</span>"
      ],
      "text/plain": [
       "Correct"
      ]
     },
     "metadata": {},
     "output_type": "display_data"
    }
   ],
   "source": [
    "from xgboost import XGBRegressor\n",
    "\n",
    "# Define the model\n",
    "my_model_1 =  XGBRegressor(random_state=0)# Your code here\n",
    "\n",
    "# Fit the model\n",
    "my_model_1.fit(X_train, y_train)# Your code here\n",
    "\n",
    "# Check your answer\n",
    "step_1.a.check()"
   ]
  },
  {
   "cell_type": "code",
   "execution_count": 4,
   "id": "454612a2",
   "metadata": {
    "execution": {
     "iopub.execute_input": "2022-01-28T11:55:37.606048Z",
     "iopub.status.busy": "2022-01-28T11:55:37.605216Z",
     "iopub.status.idle": "2022-01-28T11:55:37.608216Z",
     "shell.execute_reply": "2022-01-28T11:55:37.608699Z",
     "shell.execute_reply.started": "2022-01-28T11:34:34.736118Z"
    },
    "papermill": {
     "duration": 0.024422,
     "end_time": "2022-01-28T11:55:37.608956",
     "exception": false,
     "start_time": "2022-01-28T11:55:37.584534",
     "status": "completed"
    },
    "tags": []
   },
   "outputs": [],
   "source": [
    "# Lines below will give you a hint or solution code\n",
    "#step_1.a.hint()\n",
    "#step_1.a.solution()"
   ]
  },
  {
   "cell_type": "markdown",
   "id": "ad03eb52",
   "metadata": {
    "papermill": {
     "duration": 0.016825,
     "end_time": "2022-01-28T11:55:37.643231",
     "exception": false,
     "start_time": "2022-01-28T11:55:37.626406",
     "status": "completed"
    },
    "tags": []
   },
   "source": [
    "### Part B\n",
    "\n",
    "Set `predictions_1` to the model's predictions for the validation data.  Recall that the validation features are stored in `X_valid`."
   ]
  },
  {
   "cell_type": "code",
   "execution_count": 5,
   "id": "bf81fec1",
   "metadata": {
    "execution": {
     "iopub.execute_input": "2022-01-28T11:55:37.682174Z",
     "iopub.status.busy": "2022-01-28T11:55:37.681141Z",
     "iopub.status.idle": "2022-01-28T11:55:37.706677Z",
     "shell.execute_reply": "2022-01-28T11:55:37.708046Z",
     "shell.execute_reply.started": "2022-01-28T11:35:00.452746Z"
    },
    "papermill": {
     "duration": 0.047828,
     "end_time": "2022-01-28T11:55:37.708308",
     "exception": false,
     "start_time": "2022-01-28T11:55:37.660480",
     "status": "completed"
    },
    "tags": []
   },
   "outputs": [
    {
     "data": {
      "application/javascript": [
       "parent.postMessage({\"jupyterEvent\": \"custom.exercise_interaction\", \"data\": {\"outcomeType\": 1, \"valueTowardsCompletion\": 0.5, \"interactionType\": 1, \"questionType\": 2, \"questionId\": \"1.2_Model1B\", \"learnToolsVersion\": \"0.3.4\", \"failureMessage\": \"\", \"exceptionClass\": \"\", \"trace\": \"\"}}, \"*\")"
      ],
      "text/plain": [
       "<IPython.core.display.Javascript object>"
      ]
     },
     "metadata": {},
     "output_type": "display_data"
    },
    {
     "data": {
      "text/markdown": [
       "<span style=\"color:#33cc33\">Correct</span>"
      ],
      "text/plain": [
       "Correct"
      ]
     },
     "metadata": {},
     "output_type": "display_data"
    }
   ],
   "source": [
    "from sklearn.metrics import mean_absolute_error\n",
    "\n",
    "# Get predictions\n",
    "predictions_1 = my_model_1.predict(X_valid) # Your code here\n",
    "\n",
    "# Check your answer\n",
    "step_1.b.check()"
   ]
  },
  {
   "cell_type": "code",
   "execution_count": 6,
   "id": "495648cd",
   "metadata": {
    "execution": {
     "iopub.execute_input": "2022-01-28T11:55:37.752099Z",
     "iopub.status.busy": "2022-01-28T11:55:37.751337Z",
     "iopub.status.idle": "2022-01-28T11:55:37.753746Z",
     "shell.execute_reply": "2022-01-28T11:55:37.753134Z"
    },
    "papermill": {
     "duration": 0.025904,
     "end_time": "2022-01-28T11:55:37.753936",
     "exception": false,
     "start_time": "2022-01-28T11:55:37.728032",
     "status": "completed"
    },
    "tags": []
   },
   "outputs": [],
   "source": [
    "# Lines below will give you a hint or solution code\n",
    "#step_1.b.hint()\n",
    "#step_1.b.solution()"
   ]
  },
  {
   "cell_type": "markdown",
   "id": "d1dda84a",
   "metadata": {
    "papermill": {
     "duration": 0.018019,
     "end_time": "2022-01-28T11:55:37.790560",
     "exception": false,
     "start_time": "2022-01-28T11:55:37.772541",
     "status": "completed"
    },
    "tags": []
   },
   "source": [
    "### Part C\n",
    "\n",
    "Finally, use the `mean_absolute_error()` function to calculate the mean absolute error (MAE) corresponding to the predictions for the validation set.  Recall that the labels for the validation data are stored in `y_valid`."
   ]
  },
  {
   "cell_type": "code",
   "execution_count": 7,
   "id": "42d32d86",
   "metadata": {
    "execution": {
     "iopub.execute_input": "2022-01-28T11:55:37.831424Z",
     "iopub.status.busy": "2022-01-28T11:55:37.830721Z",
     "iopub.status.idle": "2022-01-28T11:55:37.838954Z",
     "shell.execute_reply": "2022-01-28T11:55:37.839459Z",
     "shell.execute_reply.started": "2022-01-28T11:36:03.375104Z"
    },
    "papermill": {
     "duration": 0.030352,
     "end_time": "2022-01-28T11:55:37.839657",
     "exception": false,
     "start_time": "2022-01-28T11:55:37.809305",
     "status": "completed"
    },
    "tags": []
   },
   "outputs": [
    {
     "name": "stdout",
     "output_type": "stream",
     "text": [
      "Mean Absolute Error: 17662.736729452055\n"
     ]
    },
    {
     "data": {
      "application/javascript": [
       "parent.postMessage({\"jupyterEvent\": \"custom.exercise_interaction\", \"data\": {\"outcomeType\": 1, \"valueTowardsCompletion\": 0.5, \"interactionType\": 1, \"questionType\": 2, \"questionId\": \"1.3_Model1C\", \"learnToolsVersion\": \"0.3.4\", \"failureMessage\": \"\", \"exceptionClass\": \"\", \"trace\": \"\"}}, \"*\")"
      ],
      "text/plain": [
       "<IPython.core.display.Javascript object>"
      ]
     },
     "metadata": {},
     "output_type": "display_data"
    },
    {
     "data": {
      "text/markdown": [
       "<span style=\"color:#33cc33\">Correct</span>"
      ],
      "text/plain": [
       "Correct"
      ]
     },
     "metadata": {},
     "output_type": "display_data"
    }
   ],
   "source": [
    "# Calculate MAE\n",
    "mae_1 = mean_absolute_error(predictions_1, y_valid)# Your code here\n",
    "\n",
    "# Uncomment to print MAE\n",
    "print(\"Mean Absolute Error:\" , mae_1)\n",
    "\n",
    "# Check your answer\n",
    "step_1.c.check()"
   ]
  },
  {
   "cell_type": "code",
   "execution_count": 8,
   "id": "bc724cfd",
   "metadata": {
    "execution": {
     "iopub.execute_input": "2022-01-28T11:55:37.883239Z",
     "iopub.status.busy": "2022-01-28T11:55:37.882377Z",
     "iopub.status.idle": "2022-01-28T11:55:37.885159Z",
     "shell.execute_reply": "2022-01-28T11:55:37.885643Z"
    },
    "papermill": {
     "duration": 0.026066,
     "end_time": "2022-01-28T11:55:37.885895",
     "exception": false,
     "start_time": "2022-01-28T11:55:37.859829",
     "status": "completed"
    },
    "tags": []
   },
   "outputs": [],
   "source": [
    "# Lines below will give you a hint or solution code\n",
    "#step_1.c.hint()\n",
    "#step_1.c.solution()"
   ]
  },
  {
   "cell_type": "markdown",
   "id": "ae6e8204",
   "metadata": {
    "papermill": {
     "duration": 0.019448,
     "end_time": "2022-01-28T11:55:37.925951",
     "exception": false,
     "start_time": "2022-01-28T11:55:37.906503",
     "status": "completed"
    },
    "tags": []
   },
   "source": [
    "# Step 2: Improve the model\n",
    "\n",
    "Now that you've trained a default model as baseline, it's time to tinker with the parameters, to see if you can get better performance!\n",
    "- Begin by setting `my_model_2` to an XGBoost model, using the [XGBRegressor](https://xgboost.readthedocs.io/en/latest/python/python_api.html#xgboost.XGBRegressor) class.  Use what you learned in the previous tutorial to figure out how to change the default parameters (like `n_estimators` and `learning_rate`) to get better results.\n",
    "- Then, fit the model to the training data in `X_train` and `y_train`.\n",
    "- Set `predictions_2` to the model's predictions for the validation data.  Recall that the validation features are stored in `X_valid`.\n",
    "- Finally, use the `mean_absolute_error()` function to calculate the mean absolute error (MAE) corresponding to the predictions on the validation set.  Recall that the labels for the validation data are stored in `y_valid`.\n",
    "\n",
    "In order for this step to be marked correct, your model in `my_model_2` must attain lower MAE than the model in `my_model_1`. "
   ]
  },
  {
   "cell_type": "code",
   "execution_count": 9,
   "id": "52176164",
   "metadata": {
    "execution": {
     "iopub.execute_input": "2022-01-28T11:55:37.981240Z",
     "iopub.status.busy": "2022-01-28T11:55:37.973719Z",
     "iopub.status.idle": "2022-01-28T11:55:48.164881Z",
     "shell.execute_reply": "2022-01-28T11:55:48.164219Z",
     "shell.execute_reply.started": "2022-01-28T11:46:41.573282Z"
    },
    "papermill": {
     "duration": 10.219138,
     "end_time": "2022-01-28T11:55:48.165092",
     "exception": false,
     "start_time": "2022-01-28T11:55:37.945954",
     "status": "completed"
    },
    "tags": []
   },
   "outputs": [
    {
     "name": "stdout",
     "output_type": "stream",
     "text": [
      "Mean Absolute Error: 16688.691513270547\n"
     ]
    },
    {
     "data": {
      "application/javascript": [
       "parent.postMessage({\"jupyterEvent\": \"custom.exercise_interaction\", \"data\": {\"outcomeType\": 1, \"valueTowardsCompletion\": 0.5, \"interactionType\": 1, \"questionType\": 2, \"questionId\": \"2_Model2\", \"learnToolsVersion\": \"0.3.4\", \"failureMessage\": \"\", \"exceptionClass\": \"\", \"trace\": \"\"}}, \"*\")"
      ],
      "text/plain": [
       "<IPython.core.display.Javascript object>"
      ]
     },
     "metadata": {},
     "output_type": "display_data"
    },
    {
     "data": {
      "text/markdown": [
       "<span style=\"color:#33cc33\">Correct</span>"
      ],
      "text/plain": [
       "Correct"
      ]
     },
     "metadata": {},
     "output_type": "display_data"
    }
   ],
   "source": [
    "# Define the model\n",
    "my_model_2 = XGBRegressor(n_estimators =1000, learning_rate=0.05) # Your code here\n",
    "\n",
    "# Fit the model\n",
    "my_model_2.fit(X_train, y_train) # Your code here\n",
    "\n",
    "# Get predictions\n",
    "predictions_2 = my_model_2.predict(X_valid) # Your code here\n",
    "\n",
    "# Calculate MAE\n",
    "mae_2 = mean_absolute_error(predictions_2, y_valid) # Your code here\n",
    "\n",
    "# Uncomment to print MAE\n",
    "print(\"Mean Absolute Error:\" , mae_2)\n",
    "\n",
    "# Check your answer\n",
    "step_2.check()"
   ]
  },
  {
   "cell_type": "code",
   "execution_count": 10,
   "id": "e3dc8fa5",
   "metadata": {
    "execution": {
     "iopub.execute_input": "2022-01-28T11:55:48.214066Z",
     "iopub.status.busy": "2022-01-28T11:55:48.213054Z",
     "iopub.status.idle": "2022-01-28T11:55:48.216025Z",
     "shell.execute_reply": "2022-01-28T11:55:48.215477Z",
     "shell.execute_reply.started": "2022-01-28T11:43:22.46746Z"
    },
    "papermill": {
     "duration": 0.029174,
     "end_time": "2022-01-28T11:55:48.216202",
     "exception": false,
     "start_time": "2022-01-28T11:55:48.187028",
     "status": "completed"
    },
    "tags": []
   },
   "outputs": [],
   "source": [
    "# Lines below will give you a hint or solution code\n",
    "#step_2.hint()\n",
    "#step_2.solution()"
   ]
  },
  {
   "cell_type": "markdown",
   "id": "ce029e69",
   "metadata": {
    "papermill": {
     "duration": 0.022935,
     "end_time": "2022-01-28T11:55:48.260995",
     "exception": false,
     "start_time": "2022-01-28T11:55:48.238060",
     "status": "completed"
    },
    "tags": []
   },
   "source": [
    "# Step 3: Break the model\n",
    "\n",
    "In this step, you will create a model that performs worse than the original model in Step 1.  This will help you to develop your intuition for how to set parameters.  You might even find that you accidentally get better performance, which is ultimately a nice problem to have and a valuable learning experience!\n",
    "- Begin by setting `my_model_3` to an XGBoost model, using the [XGBRegressor](https://xgboost.readthedocs.io/en/latest/python/python_api.html#xgboost.XGBRegressor) class.  Use what you learned in the previous tutorial to figure out how to change the default parameters (like `n_estimators` and `learning_rate`) to design a model to get high MAE.\n",
    "- Then, fit the model to the training data in `X_train` and `y_train`.\n",
    "- Set `predictions_3` to the model's predictions for the validation data.  Recall that the validation features are stored in `X_valid`.\n",
    "- Finally, use the `mean_absolute_error()` function to calculate the mean absolute error (MAE) corresponding to the predictions on the validation set.  Recall that the labels for the validation data are stored in `y_valid`.\n",
    "\n",
    "In order for this step to be marked correct, your model in `my_model_3` must attain higher MAE than the model in `my_model_1`. "
   ]
  },
  {
   "cell_type": "code",
   "execution_count": 11,
   "id": "13583376",
   "metadata": {
    "execution": {
     "iopub.execute_input": "2022-01-28T11:55:48.307900Z",
     "iopub.status.busy": "2022-01-28T11:55:48.307195Z",
     "iopub.status.idle": "2022-01-28T11:55:48.409426Z",
     "shell.execute_reply": "2022-01-28T11:55:48.410144Z",
     "shell.execute_reply.started": "2022-01-28T11:50:34.849285Z"
    },
    "papermill": {
     "duration": 0.128003,
     "end_time": "2022-01-28T11:55:48.410386",
     "exception": false,
     "start_time": "2022-01-28T11:55:48.282383",
     "status": "completed"
    },
    "tags": []
   },
   "outputs": [
    {
     "name": "stdout",
     "output_type": "stream",
     "text": [
      "Mean Absolute Error: 34987.65813623716\n"
     ]
    },
    {
     "data": {
      "application/javascript": [
       "parent.postMessage({\"jupyterEvent\": \"custom.exercise_interaction\", \"data\": {\"outcomeType\": 1, \"valueTowardsCompletion\": 0.5, \"interactionType\": 1, \"questionType\": 2, \"questionId\": \"3_Model3\", \"learnToolsVersion\": \"0.3.4\", \"failureMessage\": \"\", \"exceptionClass\": \"\", \"trace\": \"\"}}, \"*\")"
      ],
      "text/plain": [
       "<IPython.core.display.Javascript object>"
      ]
     },
     "metadata": {},
     "output_type": "display_data"
    },
    {
     "data": {
      "text/markdown": [
       "<span style=\"color:#33cc33\">Correct</span>"
      ],
      "text/plain": [
       "Correct"
      ]
     },
     "metadata": {},
     "output_type": "display_data"
    }
   ],
   "source": [
    "#Define the model\n",
    "\n",
    "my_model_3 = XGBRegressor(n_estimators=5)\n",
    "#Fit the model\n",
    "\n",
    "my_model_3.fit(X_train, y_train) # Your code here\n",
    "#Get predictions\n",
    "\n",
    "predictions_3 = my_model_3.predict(X_valid)\n",
    "#Calculate MAE\n",
    "\n",
    "mae_3 = mean_absolute_error(predictions_3, y_valid)\n",
    "#Uncomment to print MAE\n",
    "\n",
    "print(\"Mean Absolute Error:\" , mae_3)\n",
    "#Check your answer\n",
    "\n",
    "step_3.check()\n"
   ]
  },
  {
   "cell_type": "code",
   "execution_count": 12,
   "id": "05a88410",
   "metadata": {
    "execution": {
     "iopub.execute_input": "2022-01-28T11:55:48.462474Z",
     "iopub.status.busy": "2022-01-28T11:55:48.461690Z",
     "iopub.status.idle": "2022-01-28T11:55:48.464593Z",
     "shell.execute_reply": "2022-01-28T11:55:48.464061Z",
     "shell.execute_reply.started": "2022-01-28T11:50:45.245606Z"
    },
    "papermill": {
     "duration": 0.030771,
     "end_time": "2022-01-28T11:55:48.464764",
     "exception": false,
     "start_time": "2022-01-28T11:55:48.433993",
     "status": "completed"
    },
    "tags": []
   },
   "outputs": [],
   "source": [
    "# Lines below will give you a hint or solution code\n",
    "#step_3.hint()\n",
    "#step_3.solution()"
   ]
  },
  {
   "cell_type": "markdown",
   "id": "14c94543",
   "metadata": {
    "papermill": {
     "duration": 0.022433,
     "end_time": "2022-01-28T11:55:48.510026",
     "exception": false,
     "start_time": "2022-01-28T11:55:48.487593",
     "status": "completed"
    },
    "tags": []
   },
   "source": [
    "# Keep going\n",
    "\n",
    "Continue to learn about **[data leakage](https://www.kaggle.com/alexisbcook/data-leakage)**.  This is an important issue for a data scientist to understand, and it has the potential to ruin your models in subtle and dangerous ways!"
   ]
  },
  {
   "cell_type": "markdown",
   "id": "78807b8c",
   "metadata": {
    "papermill": {
     "duration": 0.022486,
     "end_time": "2022-01-28T11:55:48.555751",
     "exception": false,
     "start_time": "2022-01-28T11:55:48.533265",
     "status": "completed"
    },
    "tags": []
   },
   "source": [
    "---\n",
    "\n",
    "\n",
    "\n",
    "\n",
    "*Have questions or comments? Visit the [course discussion forum](https://www.kaggle.com/learn/intermediate-machine-learning/discussion) to chat with other learners.*"
   ]
  }
 ],
 "metadata": {
  "kernelspec": {
   "display_name": "Python 3",
   "language": "python",
   "name": "python3"
  },
  "language_info": {
   "codemirror_mode": {
    "name": "ipython",
    "version": 3
   },
   "file_extension": ".py",
   "mimetype": "text/x-python",
   "name": "python",
   "nbconvert_exporter": "python",
   "pygments_lexer": "ipython3",
   "version": "3.7.12"
  },
  "papermill": {
   "default_parameters": {},
   "duration": 26.168305,
   "end_time": "2022-01-28T11:55:49.491429",
   "environment_variables": {},
   "exception": null,
   "input_path": "__notebook__.ipynb",
   "output_path": "__notebook__.ipynb",
   "parameters": {},
   "start_time": "2022-01-28T11:55:23.323124",
   "version": "2.3.3"
  }
 },
 "nbformat": 4,
 "nbformat_minor": 5
}
